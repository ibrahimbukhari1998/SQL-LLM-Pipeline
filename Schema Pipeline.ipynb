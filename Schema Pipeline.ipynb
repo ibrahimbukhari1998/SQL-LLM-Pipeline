{
 "cells": [
  {
   "cell_type": "markdown",
   "metadata": {},
   "source": [
    "# PostgreSQL Schema based GPT Pipeline"
   ]
  },
  {
   "cell_type": "markdown",
   "metadata": {},
   "source": [
    "Here we shall experiment with a postgreSQL database to experiment with passing Schema information into an LLM from which we can extract SQL Queries as per our need"
   ]
  },
  {
   "cell_type": "markdown",
   "metadata": {},
   "source": [
    "## Schema Information Extraction Pipeline "
   ]
  },
  {
   "cell_type": "markdown",
   "metadata": {},
   "source": [
    "Importing Libraries"
   ]
  },
  {
   "cell_type": "code",
   "execution_count": 114,
   "metadata": {},
   "outputs": [],
   "source": [
    "import psycopg2 as pg2\n",
    "import psycopg2.extras\n",
    "import numpy as np\n",
    "from numpy import genfromtxt\n",
    "import pandas as pd"
   ]
  },
  {
   "cell_type": "markdown",
   "metadata": {},
   "source": [
    "Establishing a connection with a remote database"
   ]
  },
  {
   "cell_type": "code",
   "execution_count": 115,
   "metadata": {},
   "outputs": [],
   "source": [
    "hostname = \"35.225.67.64\"\n",
    "port_id = \"5432\"\n",
    "username = \"postgres\"\n",
    "pswrd = \"Ibrahim19@\"\n",
    "database = \"postgres\""
   ]
  },
  {
   "cell_type": "code",
   "execution_count": 116,
   "metadata": {},
   "outputs": [],
   "source": [
    "conn = pg2.connect(\n",
    "        host = hostname, \n",
    "        dbname = database, \n",
    "        user = username,\n",
    "        password = pswrd,\n",
    "        port = port_id)\n",
    "\n",
    "\n",
    "cur = conn.cursor()"
   ]
  },
  {
   "cell_type": "markdown",
   "metadata": {},
   "source": [
    "This executes the commands to retrieve all the tables inside a Schema "
   ]
  },
  {
   "cell_type": "code",
   "execution_count": null,
   "metadata": {},
   "outputs": [],
   "source": [
    "# execute the query to retrieve table and column information\n",
    "cur.execute(\"\"\"\n",
    "    SELECT table_name, column_name, data_type \n",
    "    FROM information_schema.columns \n",
    "    WHERE table_schema = 'quran' \n",
    "    ORDER BY table_name, ordinal_position\n",
    "\"\"\")\n",
    "\n",
    "# fetch all the results as a list of tuples\n",
    "table_info = cur.fetchall()\n",
    "# print(table_info)\n",
    "\n",
    "# close the cursor and connection\n",
    "# cur.close()\n",
    "# conn.close()"
   ]
  },
  {
   "cell_type": "markdown",
   "metadata": {},
   "source": [
    "This stores the Table's name, and all it's columns names and datatypes into a dictionary which refernces the table's name"
   ]
  },
  {
   "cell_type": "code",
   "execution_count": 75,
   "metadata": {},
   "outputs": [],
   "source": [
    "# create an empty dictionary to store table information\n",
    "table_dict = {}\n",
    "\n",
    "# iterate through the results and populate the dictionary\n",
    "for row in table_info:\n",
    "    table_name = row[0]\n",
    "    col_name = row[1]\n",
    "    col_type = row[2]\n",
    "    if table_name not in table_dict:\n",
    "        table_dict[table_name] = []\n",
    "    table_dict[table_name].append((col_name, col_type))\n",
    "\n",
    "# convert the dictionary to a NumPy array\n",
    "table_arr = np.empty((len(table_dict),), dtype=object)\n",
    "for i, (table_name, cols) in enumerate(table_dict.items()):\n",
    "    col_arr = np.array(cols, dtype=[('column_name', 'U50'), ('data_type', 'U50')])\n",
    "    table_arr[i] = (table_name, col_arr)\n",
    "\n",
    "# create a structured NumPy array with table name and columns\n",
    "dt = np.dtype([('table_name', 'U50'), ('columns', 'O')])\n",
    "table_arr = np.array(table_arr, dtype=dt)\n",
    "\n",
    "# print the resulting NumPy array\n",
    "# print(table_arr)"
   ]
  },
  {
   "cell_type": "markdown",
   "metadata": {},
   "source": [
    "This Function converts each Table into an organized list so that passing it to an LLM can b easy"
   ]
  },
  {
   "cell_type": "code",
   "execution_count": 95,
   "metadata": {},
   "outputs": [],
   "source": [
    "def table_to_list(table):\n",
    "    table_list = []\n",
    "    table_list.append(table[0])\n",
    "    for i in table[1]:\n",
    "        tempList = [i[0], i[1]]\n",
    "        table_list.append([i[0], i[1]])\n",
    "    \n",
    "    return table_list        "
   ]
  },
  {
   "cell_type": "markdown",
   "metadata": {},
   "source": [
    "Here we Test out our Function "
   ]
  },
  {
   "cell_type": "code",
   "execution_count": null,
   "metadata": {},
   "outputs": [],
   "source": [
    "position = table_to_list(table_arr[48])\n",
    "\n",
    "for i in position:\n",
    "    print(i)"
   ]
  },
  {
   "cell_type": "markdown",
   "metadata": {},
   "source": [
    "## Langchain LLM Pipeline"
   ]
  },
  {
   "cell_type": "code",
   "execution_count": null,
   "metadata": {},
   "outputs": [],
   "source": []
  },
  {
   "cell_type": "code",
   "execution_count": null,
   "metadata": {},
   "outputs": [],
   "source": []
  },
  {
   "cell_type": "code",
   "execution_count": null,
   "metadata": {},
   "outputs": [],
   "source": []
  },
  {
   "cell_type": "code",
   "execution_count": null,
   "metadata": {},
   "outputs": [],
   "source": []
  },
  {
   "cell_type": "markdown",
   "metadata": {},
   "source": [
    "# Extra Code Work"
   ]
  },
  {
   "cell_type": "code",
   "execution_count": 130,
   "metadata": {},
   "outputs": [
    {
     "name": "stdout",
     "output_type": "stream",
     "text": [
      "[('file', 'file_id', 'integer'), ('file', 'recitation_id', 'integer'), ('file', 'ayah_key', 'text'), ('file', 'format', 'text'), ('file', 'duration', 'real'), ('file', 'mime_type', 'text'), ('file', 'is_enabled', 'boolean'), ('file', 'url', 'text'), ('file', 'segments_stats', 'json'), ('file', 'segments', 'ARRAY')]\n"
     ]
    }
   ],
   "source": [
    "# execute the query to retrieve table and column information\n",
    "cur.execute(\"\"\"\n",
    "SELECT table_name, column_name, data_type \n",
    "FROM information_schema.columns\n",
    "WHERE table_name = 'file';\n",
    "\"\"\")\n",
    "\n",
    "# fetch all the results as a list of tuples\n",
    "table_info = cur.fetchall()\n",
    "print(table_info)\n",
    "\n",
    "# close the cursor and connection\n",
    "# cur.close()\n",
    "# conn.close()"
   ]
  },
  {
   "cell_type": "code",
   "execution_count": null,
   "metadata": {},
   "outputs": [],
   "source": []
  },
  {
   "cell_type": "code",
   "execution_count": null,
   "metadata": {},
   "outputs": [],
   "source": []
  },
  {
   "cell_type": "code",
   "execution_count": null,
   "metadata": {},
   "outputs": [],
   "source": []
  },
  {
   "cell_type": "code",
   "execution_count": null,
   "metadata": {},
   "outputs": [],
   "source": []
  },
  {
   "cell_type": "code",
   "execution_count": 4,
   "metadata": {},
   "outputs": [],
   "source": [
    "schema_name = 'quran'\n",
    "table_name = 'qr_posts'   # Enter table name here\n",
    "\n",
    "query = 'select * from '+schema_name+'.'+table_name"
   ]
  },
  {
   "cell_type": "code",
   "execution_count": 29,
   "metadata": {},
   "outputs": [],
   "source": [
    "def get_tables():\n",
    "    cur.execute(\"\"\" \n",
    "        SELECT table_name, column_name, data_type \n",
    "        FROM information_schema.columns \n",
    "        WHERE table_schema = 'quran' \n",
    "        ORDER BY table_name, ordinal_position\n",
    "                \"\"\")\n",
    "    tables = cur.fetchall()\n",
    "    return tables"
   ]
  },
  {
   "cell_type": "code",
   "execution_count": 31,
   "metadata": {},
   "outputs": [],
   "source": [
    "tables = get_tables()"
   ]
  },
  {
   "cell_type": "code",
   "execution_count": 32,
   "metadata": {},
   "outputs": [
    {
     "name": "stdout",
     "output_type": "stream",
     "text": [
      "[['ar_internal_metadata']\n",
      " ['key']\n",
      " ['character varying']\n",
      " ...\n",
      " ['words']\n",
      " ['text_qpc_nastaleeq_hafs']\n",
      " ['character varying']]\n"
     ]
    }
   ],
   "source": [
    "table_names_arr = np.array(tables)\n",
    "table_2d = np.reshape(table_names_arr, (-1,1))\n",
    "print(table_2d)"
   ]
  },
  {
   "cell_type": "code",
   "execution_count": 5,
   "metadata": {},
   "outputs": [],
   "source": [
    "cur.execute(query)\n",
    "result = cur.fetchall()"
   ]
  }
 ],
 "metadata": {
  "kernelspec": {
   "display_name": "Python 3.11.3 ('gptsql': venv)",
   "language": "python",
   "name": "python3"
  },
  "language_info": {
   "codemirror_mode": {
    "name": "ipython",
    "version": 3
   },
   "file_extension": ".py",
   "mimetype": "text/x-python",
   "name": "python",
   "nbconvert_exporter": "python",
   "pygments_lexer": "ipython3",
   "version": "3.11.3"
  },
  "orig_nbformat": 4,
  "vscode": {
   "interpreter": {
    "hash": "7983b2ba9f429a52aadb5ea0eb265bffeb8cd56a34cd636b9013546d89f93f7a"
   }
  }
 },
 "nbformat": 4,
 "nbformat_minor": 2
}
